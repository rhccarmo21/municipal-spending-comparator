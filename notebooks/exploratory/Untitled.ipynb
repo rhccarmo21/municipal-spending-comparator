{
 "cells": [
  {
   "cell_type": "code",
   "execution_count": 22,
   "id": "777d63cf-eaa1-465d-ae63-e683483bcf40",
   "metadata": {},
   "outputs": [
    {
     "name": "stdout",
     "output_type": "stream",
     "text": [
      "Ambiente configurado com sucesso!\n"
     ]
    }
   ],
   "source": [
    "# Configuração inicial\n",
    "import pandas as pd\n",
    "import numpy as np\n",
    "import matplotlib.pyplot as plt\n",
    "import seaborn as sns\n",
    "\n",
    "%matplotlib inline\n",
    "plt.style.use('ggplot')\n",
    "\n",
    "print(\"Ambiente configurado com sucesso!\")"
   ]
  },
  {
   "cell_type": "code",
   "execution_count": 23,
   "id": "b109afd4-5c73-4ec7-afb2-8bde332a9831",
   "metadata": {},
   "outputs": [
    {
     "name": "stdout",
     "output_type": "stream",
     "text": [
      "**Autor**: Roberto da Cunha\n",
      "**Data**: 2025-08-03\n"
     ]
    }
   ],
   "source": [
    "# Análise de Gastos Municipais\n",
    "## Dados do Tesouro Nacional\n",
    "\n",
    "print(\"**Autor**: Roberto da Cunha\")\n",
    "print(\"**Data**: 2025-08-03\")  # Números em strings não causam erro"
   ]
  },
  {
   "cell_type": "code",
   "execution_count": 24,
   "id": "f98ee808-95ea-4384-a479-93be610f120e",
   "metadata": {},
   "outputs": [],
   "source": [
    "# Adicionar no final da função, antes de salvar\n",
    "def validate_data(df):\n",
    "    \"\"\"Validações básicas da qualidade dos dados\"\"\"\n",
    "    assert not df.empty, \"DataFrame vazio após processamento\"\n",
    "    assert df[\"ano_exercicio\"].between(2010, 2023).all(), \"Anos fora do intervalo esperado\"\n",
    "    monetary_cols = [\"valor_atualizado\", \"valor_orcado\", \"valor_liquidado\"]\n",
    "    for col in monetary_cols:\n",
    "        if col in df.columns:\n",
    "            assert df[col].ge(0).all(), f\"Valores negativos encontrados em {col}\"\n",
    "    return True"
   ]
  },
  {
   "cell_type": "code",
   "execution_count": 25,
   "id": "04aa064a-fd9a-429f-abe1-1a0a817603ea",
   "metadata": {},
   "outputs": [],
   "source": [
    "# Adicionar no início da função\n",
    "PARAMS = {\n",
    "    \"encoding\": \"ISO-8859-1\",\n",
    "    \"sep\": \";\",\n",
    "    \"decimal\": \",\",\n",
    "    \"na_values\": [\"-\", \"NA\", \"\"],\n",
    "    \"min_year\": 2010,\n",
    "    \"max_year\": 2023\n",
    "}\n",
    "\n",
    "def generate_documentation():\n",
    "    \"\"\"Gera documentação automática do processamento\"\"\"\n",
    "    doc = f\"\"\"\n",
    "    # Documentação do Pré-processamento\n",
    "    \n",
    "    Parâmetros utilizados:\n",
    "    - Encoding: {PARAMS['encoding']}\n",
    "    - Separador: {PARAMS['sep']}\n",
    "    - Decimal: {PARAMS['decimal']}\n",
    "    - Valores considerados como NA: {PARAMS['na_values']}\n",
    "    - Intervalo de anos válidos: {PARAMS['min_year']}-{PARAMS['max_year']}\n",
    "    \"\"\"\n",
    "    with open(\"../docs/preprocessing_report.md\", \"w\") as f:\n",
    "        f.write(doc)"
   ]
  },
  {
   "cell_type": "code",
   "execution_count": 28,
   "id": "9b2ed885-0a1d-4916-a937-75773f6446c5",
   "metadata": {},
   "outputs": [],
   "source": [
    "# Modificação para arquivos muito grandes\n",
    "def process_large_file(raw_path, chunksize=10000):\n",
    "    \"\"\"Processa arquivos grandes em chunks\"\"\"\n",
    "    chunks = []\n",
    "    for chunk in pd.read_csv(raw_path, chunksize=chunksize, encoding=PARAMS[\"encoding\"], sep=PARAMS[\"sep\"]):\n",
    "        # Aplicar todas as transformações aqui\n",
    "        chunks.append(processed_chunk)\n",
    "    return pd.concat(chunks, ignore_index=True)"
   ]
  },
  {
   "cell_type": "code",
   "execution_count": 29,
   "id": "078f0491-b43f-46bb-ae99-49731dba70a1",
   "metadata": {},
   "outputs": [],
   "source": [
    "def process_large_file(raw_path, chunksize=10000):\n",
    "    \"\"\"Processa arquivos grandes em chunks com todas as transformações\"\"\"\n",
    "    chunks = []\n",
    "    \n",
    "    for chunk in pd.read_csv(\n",
    "        raw_path,\n",
    "        chunksize=chunksize,\n",
    "        encoding=PARAMS[\"encoding\"],\n",
    "        sep=PARAMS[\"sep\"],\n",
    "        decimal=PARAMS[\"decimal\"],\n",
    "        dtype={\"codigo_ibge\": str},\n",
    "        thousands=\".\",\n",
    "        na_values=PARAMS[\"na_values\"]\n",
    "    ):\n",
    "        # Aplica todas as transformações em cada chunk\n",
    "        processed_chunk = clean_column_names(chunk)\n",
    "        processed_chunk = convert_monetary_values(processed_chunk)\n",
    "        \n",
    "        # Filtro de anos (se aplicável)\n",
    "        if \"ano_exercicio\" in processed_chunk.columns:\n",
    "            processed_chunk = processed_chunk[\n",
    "                processed_chunk[\"ano_exercicio\"].between(PARAMS[\"min_year\"], PARAMS[\"max_year\"])\n",
    "            ]\n",
    "        \n",
    "        chunks.append(processed_chunk)\n",
    "    \n",
    "    # Combina todos os chunks processados\n",
    "    return pd.concat(chunks, ignore_index=True)"
   ]
  },
  {
   "cell_type": "code",
   "execution_count": null,
   "id": "f17a7d52-b7db-4a15-97e1-13c86f9b6961",
   "metadata": {},
   "outputs": [],
   "source": []
  },
  {
   "cell_type": "code",
   "execution_count": null,
   "id": "bb50e253-7dd4-4839-86e1-f7136a27e0d6",
   "metadata": {},
   "outputs": [],
   "source": []
  }
 ],
 "metadata": {
  "kernelspec": {
   "display_name": "Python 3 (ipykernel)",
   "language": "python",
   "name": "python3"
  },
  "language_info": {
   "codemirror_mode": {
    "name": "ipython",
    "version": 3
   },
   "file_extension": ".py",
   "mimetype": "text/x-python",
   "name": "python",
   "nbconvert_exporter": "python",
   "pygments_lexer": "ipython3",
   "version": "3.12.3"
  }
 },
 "nbformat": 4,
 "nbformat_minor": 5
}
